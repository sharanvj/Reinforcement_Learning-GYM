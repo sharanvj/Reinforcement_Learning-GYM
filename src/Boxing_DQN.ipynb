{
  "nbformat": 4,
  "nbformat_minor": 0,
  "metadata": {
    "colab": {
      "name": "Boxing_DQN.ipynb",
      "provenance": [],
      "collapsed_sections": []
    },
    "kernelspec": {
      "name": "python3",
      "display_name": "Python 3"
    },
    "language_info": {
      "name": "python"
    },
    "accelerator": "GPU"
  },
  "cells": [
    {
      "cell_type": "markdown",
      "source": [
        "##I/We certify that the code and data in this assignment were generated independently, using only the tools and resources defined in the course and that I did not receive any external help, coaching or contributions during the production of this work.\n"
      ],
      "metadata": {
        "id": "tx25Hn0gsQdW"
      }
    },
    {
      "cell_type": "code",
      "execution_count": null,
      "metadata": {
        "colab": {
          "base_uri": "https://localhost:8080/"
        },
        "id": "_Wsp5CRRXCph",
        "outputId": "23744994-800b-4387-9990-5300b47c453d"
      },
      "outputs": [
        {
          "output_type": "stream",
          "name": "stdout",
          "text": [
            "Collecting tf-agents\n",
            "  Downloading tf_agents-0.12.1-py3-none-any.whl (1.3 MB)\n",
            "\u001b[?25l\r\u001b[K     |▎                               | 10 kB 34.5 MB/s eta 0:00:01\r\u001b[K     |▌                               | 20 kB 41.7 MB/s eta 0:00:01\r\u001b[K     |▊                               | 30 kB 38.6 MB/s eta 0:00:01\r\u001b[K     |█                               | 40 kB 28.1 MB/s eta 0:00:01\r\u001b[K     |█▎                              | 51 kB 22.0 MB/s eta 0:00:01\r\u001b[K     |█▌                              | 61 kB 25.2 MB/s eta 0:00:01\r\u001b[K     |█▊                              | 71 kB 25.5 MB/s eta 0:00:01\r\u001b[K     |██                              | 81 kB 27.6 MB/s eta 0:00:01\r\u001b[K     |██▎                             | 92 kB 29.3 MB/s eta 0:00:01\r\u001b[K     |██▌                             | 102 kB 30.4 MB/s eta 0:00:01\r\u001b[K     |██▊                             | 112 kB 30.4 MB/s eta 0:00:01\r\u001b[K     |███                             | 122 kB 30.4 MB/s eta 0:00:01\r\u001b[K     |███▎                            | 133 kB 30.4 MB/s eta 0:00:01\r\u001b[K     |███▌                            | 143 kB 30.4 MB/s eta 0:00:01\r\u001b[K     |███▊                            | 153 kB 30.4 MB/s eta 0:00:01\r\u001b[K     |████                            | 163 kB 30.4 MB/s eta 0:00:01\r\u001b[K     |████▎                           | 174 kB 30.4 MB/s eta 0:00:01\r\u001b[K     |████▌                           | 184 kB 30.4 MB/s eta 0:00:01\r\u001b[K     |████▊                           | 194 kB 30.4 MB/s eta 0:00:01\r\u001b[K     |█████                           | 204 kB 30.4 MB/s eta 0:00:01\r\u001b[K     |█████▎                          | 215 kB 30.4 MB/s eta 0:00:01\r\u001b[K     |█████▌                          | 225 kB 30.4 MB/s eta 0:00:01\r\u001b[K     |█████▊                          | 235 kB 30.4 MB/s eta 0:00:01\r\u001b[K     |██████                          | 245 kB 30.4 MB/s eta 0:00:01\r\u001b[K     |██████▎                         | 256 kB 30.4 MB/s eta 0:00:01\r\u001b[K     |██████▌                         | 266 kB 30.4 MB/s eta 0:00:01\r\u001b[K     |██████▊                         | 276 kB 30.4 MB/s eta 0:00:01\r\u001b[K     |███████                         | 286 kB 30.4 MB/s eta 0:00:01\r\u001b[K     |███████▎                        | 296 kB 30.4 MB/s eta 0:00:01\r\u001b[K     |███████▌                        | 307 kB 30.4 MB/s eta 0:00:01\r\u001b[K     |███████▊                        | 317 kB 30.4 MB/s eta 0:00:01\r\u001b[K     |████████                        | 327 kB 30.4 MB/s eta 0:00:01\r\u001b[K     |████████▎                       | 337 kB 30.4 MB/s eta 0:00:01\r\u001b[K     |████████▌                       | 348 kB 30.4 MB/s eta 0:00:01\r\u001b[K     |████████▊                       | 358 kB 30.4 MB/s eta 0:00:01\r\u001b[K     |█████████                       | 368 kB 30.4 MB/s eta 0:00:01\r\u001b[K     |█████████▎                      | 378 kB 30.4 MB/s eta 0:00:01\r\u001b[K     |█████████▌                      | 389 kB 30.4 MB/s eta 0:00:01\r\u001b[K     |█████████▊                      | 399 kB 30.4 MB/s eta 0:00:01\r\u001b[K     |██████████                      | 409 kB 30.4 MB/s eta 0:00:01\r\u001b[K     |██████████▎                     | 419 kB 30.4 MB/s eta 0:00:01\r\u001b[K     |██████████▌                     | 430 kB 30.4 MB/s eta 0:00:01\r\u001b[K     |██████████▊                     | 440 kB 30.4 MB/s eta 0:00:01\r\u001b[K     |███████████                     | 450 kB 30.4 MB/s eta 0:00:01\r\u001b[K     |███████████▎                    | 460 kB 30.4 MB/s eta 0:00:01\r\u001b[K     |███████████▌                    | 471 kB 30.4 MB/s eta 0:00:01\r\u001b[K     |███████████▊                    | 481 kB 30.4 MB/s eta 0:00:01\r\u001b[K     |████████████                    | 491 kB 30.4 MB/s eta 0:00:01\r\u001b[K     |████████████▎                   | 501 kB 30.4 MB/s eta 0:00:01\r\u001b[K     |████████████▌                   | 512 kB 30.4 MB/s eta 0:00:01\r\u001b[K     |████████████▊                   | 522 kB 30.4 MB/s eta 0:00:01\r\u001b[K     |█████████████                   | 532 kB 30.4 MB/s eta 0:00:01\r\u001b[K     |█████████████▎                  | 542 kB 30.4 MB/s eta 0:00:01\r\u001b[K     |█████████████▌                  | 552 kB 30.4 MB/s eta 0:00:01\r\u001b[K     |█████████████▉                  | 563 kB 30.4 MB/s eta 0:00:01\r\u001b[K     |██████████████                  | 573 kB 30.4 MB/s eta 0:00:01\r\u001b[K     |██████████████▎                 | 583 kB 30.4 MB/s eta 0:00:01\r\u001b[K     |██████████████▌                 | 593 kB 30.4 MB/s eta 0:00:01\r\u001b[K     |██████████████▉                 | 604 kB 30.4 MB/s eta 0:00:01\r\u001b[K     |███████████████                 | 614 kB 30.4 MB/s eta 0:00:01\r\u001b[K     |███████████████▎                | 624 kB 30.4 MB/s eta 0:00:01\r\u001b[K     |███████████████▌                | 634 kB 30.4 MB/s eta 0:00:01\r\u001b[K     |███████████████▉                | 645 kB 30.4 MB/s eta 0:00:01\r\u001b[K     |████████████████                | 655 kB 30.4 MB/s eta 0:00:01\r\u001b[K     |████████████████▎               | 665 kB 30.4 MB/s eta 0:00:01\r\u001b[K     |████████████████▌               | 675 kB 30.4 MB/s eta 0:00:01\r\u001b[K     |████████████████▉               | 686 kB 30.4 MB/s eta 0:00:01\r\u001b[K     |█████████████████               | 696 kB 30.4 MB/s eta 0:00:01\r\u001b[K     |█████████████████▎              | 706 kB 30.4 MB/s eta 0:00:01\r\u001b[K     |█████████████████▌              | 716 kB 30.4 MB/s eta 0:00:01\r\u001b[K     |█████████████████▉              | 727 kB 30.4 MB/s eta 0:00:01\r\u001b[K     |██████████████████              | 737 kB 30.4 MB/s eta 0:00:01\r\u001b[K     |██████████████████▎             | 747 kB 30.4 MB/s eta 0:00:01\r\u001b[K     |██████████████████▌             | 757 kB 30.4 MB/s eta 0:00:01\r\u001b[K     |██████████████████▉             | 768 kB 30.4 MB/s eta 0:00:01\r\u001b[K     |███████████████████             | 778 kB 30.4 MB/s eta 0:00:01\r\u001b[K     |███████████████████▎            | 788 kB 30.4 MB/s eta 0:00:01\r\u001b[K     |███████████████████▌            | 798 kB 30.4 MB/s eta 0:00:01\r\u001b[K     |███████████████████▉            | 808 kB 30.4 MB/s eta 0:00:01\r\u001b[K     |████████████████████            | 819 kB 30.4 MB/s eta 0:00:01\r\u001b[K     |████████████████████▎           | 829 kB 30.4 MB/s eta 0:00:01\r\u001b[K     |████████████████████▌           | 839 kB 30.4 MB/s eta 0:00:01\r\u001b[K     |████████████████████▉           | 849 kB 30.4 MB/s eta 0:00:01\r\u001b[K     |█████████████████████           | 860 kB 30.4 MB/s eta 0:00:01\r\u001b[K     |█████████████████████▎          | 870 kB 30.4 MB/s eta 0:00:01\r\u001b[K     |█████████████████████▌          | 880 kB 30.4 MB/s eta 0:00:01\r\u001b[K     |█████████████████████▉          | 890 kB 30.4 MB/s eta 0:00:01\r\u001b[K     |██████████████████████          | 901 kB 30.4 MB/s eta 0:00:01\r\u001b[K     |██████████████████████▎         | 911 kB 30.4 MB/s eta 0:00:01\r\u001b[K     |██████████████████████▌         | 921 kB 30.4 MB/s eta 0:00:01\r\u001b[K     |██████████████████████▉         | 931 kB 30.4 MB/s eta 0:00:01\r\u001b[K     |███████████████████████         | 942 kB 30.4 MB/s eta 0:00:01\r\u001b[K     |███████████████████████▎        | 952 kB 30.4 MB/s eta 0:00:01\r\u001b[K     |███████████████████████▌        | 962 kB 30.4 MB/s eta 0:00:01\r\u001b[K     |███████████████████████▉        | 972 kB 30.4 MB/s eta 0:00:01\r\u001b[K     |████████████████████████        | 983 kB 30.4 MB/s eta 0:00:01\r\u001b[K     |████████████████████████▎       | 993 kB 30.4 MB/s eta 0:00:01\r\u001b[K     |████████████████████████▌       | 1.0 MB 30.4 MB/s eta 0:00:01\r\u001b[K     |████████████████████████▉       | 1.0 MB 30.4 MB/s eta 0:00:01\r\u001b[K     |█████████████████████████       | 1.0 MB 30.4 MB/s eta 0:00:01\r\u001b[K     |█████████████████████████▎      | 1.0 MB 30.4 MB/s eta 0:00:01\r\u001b[K     |█████████████████████████▌      | 1.0 MB 30.4 MB/s eta 0:00:01\r\u001b[K     |█████████████████████████▉      | 1.1 MB 30.4 MB/s eta 0:00:01\r\u001b[K     |██████████████████████████      | 1.1 MB 30.4 MB/s eta 0:00:01\r\u001b[K     |██████████████████████████▎     | 1.1 MB 30.4 MB/s eta 0:00:01\r\u001b[K     |██████████████████████████▋     | 1.1 MB 30.4 MB/s eta 0:00:01\r\u001b[K     |██████████████████████████▉     | 1.1 MB 30.4 MB/s eta 0:00:01\r\u001b[K     |███████████████████████████     | 1.1 MB 30.4 MB/s eta 0:00:01\r\u001b[K     |███████████████████████████▎    | 1.1 MB 30.4 MB/s eta 0:00:01\r\u001b[K     |███████████████████████████▋    | 1.1 MB 30.4 MB/s eta 0:00:01\r\u001b[K     |███████████████████████████▉    | 1.1 MB 30.4 MB/s eta 0:00:01\r\u001b[K     |████████████████████████████    | 1.1 MB 30.4 MB/s eta 0:00:01\r\u001b[K     |████████████████████████████▎   | 1.2 MB 30.4 MB/s eta 0:00:01\r\u001b[K     |████████████████████████████▋   | 1.2 MB 30.4 MB/s eta 0:00:01\r\u001b[K     |████████████████████████████▉   | 1.2 MB 30.4 MB/s eta 0:00:01\r\u001b[K     |█████████████████████████████   | 1.2 MB 30.4 MB/s eta 0:00:01\r\u001b[K     |█████████████████████████████▎  | 1.2 MB 30.4 MB/s eta 0:00:01\r\u001b[K     |█████████████████████████████▋  | 1.2 MB 30.4 MB/s eta 0:00:01\r\u001b[K     |█████████████████████████████▉  | 1.2 MB 30.4 MB/s eta 0:00:01\r\u001b[K     |██████████████████████████████  | 1.2 MB 30.4 MB/s eta 0:00:01\r\u001b[K     |██████████████████████████████▎ | 1.2 MB 30.4 MB/s eta 0:00:01\r\u001b[K     |██████████████████████████████▋ | 1.2 MB 30.4 MB/s eta 0:00:01\r\u001b[K     |██████████████████████████████▉ | 1.3 MB 30.4 MB/s eta 0:00:01\r\u001b[K     |███████████████████████████████ | 1.3 MB 30.4 MB/s eta 0:00:01\r\u001b[K     |███████████████████████████████▎| 1.3 MB 30.4 MB/s eta 0:00:01\r\u001b[K     |███████████████████████████████▋| 1.3 MB 30.4 MB/s eta 0:00:01\r\u001b[K     |███████████████████████████████▉| 1.3 MB 30.4 MB/s eta 0:00:01\r\u001b[K     |████████████████████████████████| 1.3 MB 30.4 MB/s \n",
            "\u001b[?25hCollecting pyvirtualdisplay\n",
            "  Downloading PyVirtualDisplay-3.0-py3-none-any.whl (15 kB)\n",
            "Requirement already satisfied: gin-config>=0.4.0 in /usr/local/lib/python3.7/dist-packages (from tf-agents) (0.5.0)\n",
            "Requirement already satisfied: six>=1.10.0 in /usr/local/lib/python3.7/dist-packages (from tf-agents) (1.15.0)\n",
            "Requirement already satisfied: tensorflow-probability>=0.16.0 in /usr/local/lib/python3.7/dist-packages (from tf-agents) (0.16.0)\n",
            "Requirement already satisfied: cloudpickle>=1.3 in /usr/local/lib/python3.7/dist-packages (from tf-agents) (1.3.0)\n",
            "Requirement already satisfied: gym>=0.17.0 in /usr/local/lib/python3.7/dist-packages (from tf-agents) (0.17.3)\n",
            "Requirement already satisfied: typing-extensions>=3.7.4.3 in /usr/local/lib/python3.7/dist-packages (from tf-agents) (4.2.0)\n",
            "Requirement already satisfied: wrapt>=1.11.1 in /usr/local/lib/python3.7/dist-packages (from tf-agents) (1.14.0)\n",
            "Collecting pygame==2.1.0\n",
            "  Downloading pygame-2.1.0-cp37-cp37m-manylinux_2_17_x86_64.manylinux2014_x86_64.whl (18.3 MB)\n",
            "\u001b[K     |████████████████████████████████| 18.3 MB 58 kB/s \n",
            "\u001b[?25hRequirement already satisfied: pillow in /usr/local/lib/python3.7/dist-packages (from tf-agents) (7.1.2)\n",
            "Requirement already satisfied: absl-py>=0.6.1 in /usr/local/lib/python3.7/dist-packages (from tf-agents) (1.0.0)\n",
            "Requirement already satisfied: numpy>=1.13.3 in /usr/local/lib/python3.7/dist-packages (from tf-agents) (1.21.6)\n",
            "Requirement already satisfied: protobuf>=3.11.3 in /usr/local/lib/python3.7/dist-packages (from tf-agents) (3.17.3)\n",
            "Requirement already satisfied: scipy in /usr/local/lib/python3.7/dist-packages (from gym>=0.17.0->tf-agents) (1.4.1)\n",
            "Requirement already satisfied: pyglet<=1.5.0,>=1.4.0 in /usr/local/lib/python3.7/dist-packages (from gym>=0.17.0->tf-agents) (1.5.0)\n",
            "Requirement already satisfied: future in /usr/local/lib/python3.7/dist-packages (from pyglet<=1.5.0,>=1.4.0->gym>=0.17.0->tf-agents) (0.16.0)\n",
            "Requirement already satisfied: decorator in /usr/local/lib/python3.7/dist-packages (from tensorflow-probability>=0.16.0->tf-agents) (4.4.2)\n",
            "Requirement already satisfied: dm-tree in /usr/local/lib/python3.7/dist-packages (from tensorflow-probability>=0.16.0->tf-agents) (0.1.7)\n",
            "Requirement already satisfied: gast>=0.3.2 in /usr/local/lib/python3.7/dist-packages (from tensorflow-probability>=0.16.0->tf-agents) (0.5.3)\n",
            "Installing collected packages: pygame, tf-agents, pyvirtualdisplay\n",
            "Successfully installed pygame-2.1.0 pyvirtualdisplay-3.0 tf-agents-0.12.1\n",
            "Requirement already satisfied: gym[accept-rom-license,atari,box2d] in /usr/local/lib/python3.7/dist-packages (0.23.1)\n",
            "Requirement already satisfied: gym-notices>=0.0.4 in /usr/local/lib/python3.7/dist-packages (from gym[accept-rom-license,atari,box2d]) (0.0.6)\n",
            "Requirement already satisfied: importlib-metadata>=4.10.0 in /usr/local/lib/python3.7/dist-packages (from gym[accept-rom-license,atari,box2d]) (4.11.3)\n",
            "Requirement already satisfied: numpy>=1.18.0 in /usr/local/lib/python3.7/dist-packages (from gym[accept-rom-license,atari,box2d]) (1.21.6)\n",
            "Requirement already satisfied: cloudpickle>=1.2.0 in /usr/local/lib/python3.7/dist-packages (from gym[accept-rom-license,atari,box2d]) (1.3.0)\n",
            "Requirement already satisfied: pygame==2.1.0 in /usr/local/lib/python3.7/dist-packages (from gym[accept-rom-license,atari,box2d]) (2.1.0)\n",
            "Collecting box2d-py==2.3.5\n",
            "  Downloading box2d_py-2.3.5-cp37-cp37m-manylinux1_x86_64.whl (2.1 MB)\n",
            "\u001b[K     |████████████████████████████████| 2.1 MB 28.7 MB/s \n",
            "\u001b[?25hCollecting ale-py~=0.7.4\n",
            "  Downloading ale_py-0.7.5-cp37-cp37m-manylinux_2_17_x86_64.manylinux2014_x86_64.whl (1.6 MB)\n",
            "\u001b[K     |████████████████████████████████| 1.6 MB 60.8 MB/s \n",
            "\u001b[?25hCollecting autorom[accept-rom-license]~=0.4.2\n",
            "  Downloading AutoROM-0.4.2-py3-none-any.whl (16 kB)\n",
            "Requirement already satisfied: importlib-resources in /usr/local/lib/python3.7/dist-packages (from ale-py~=0.7.4->gym[accept-rom-license,atari,box2d]) (5.7.1)\n",
            "Requirement already satisfied: click in /usr/local/lib/python3.7/dist-packages (from autorom[accept-rom-license]~=0.4.2->gym[accept-rom-license,atari,box2d]) (7.1.2)\n",
            "Requirement already satisfied: tqdm in /usr/local/lib/python3.7/dist-packages (from autorom[accept-rom-license]~=0.4.2->gym[accept-rom-license,atari,box2d]) (4.64.0)\n",
            "Requirement already satisfied: requests in /usr/local/lib/python3.7/dist-packages (from autorom[accept-rom-license]~=0.4.2->gym[accept-rom-license,atari,box2d]) (2.23.0)\n",
            "Collecting AutoROM.accept-rom-license\n",
            "  Downloading AutoROM.accept-rom-license-0.4.2.tar.gz (9.8 kB)\n",
            "  Installing build dependencies ... \u001b[?25l\u001b[?25hdone\n",
            "  Getting requirements to build wheel ... \u001b[?25l\u001b[?25hdone\n",
            "    Preparing wheel metadata ... \u001b[?25l\u001b[?25hdone\n",
            "Requirement already satisfied: typing-extensions>=3.6.4 in /usr/local/lib/python3.7/dist-packages (from importlib-metadata>=4.10.0->gym[accept-rom-license,atari,box2d]) (4.2.0)\n",
            "Requirement already satisfied: zipp>=0.5 in /usr/local/lib/python3.7/dist-packages (from importlib-metadata>=4.10.0->gym[accept-rom-license,atari,box2d]) (3.8.0)\n",
            "Requirement already satisfied: urllib3!=1.25.0,!=1.25.1,<1.26,>=1.21.1 in /usr/local/lib/python3.7/dist-packages (from requests->autorom[accept-rom-license]~=0.4.2->gym[accept-rom-license,atari,box2d]) (1.24.3)\n",
            "Requirement already satisfied: chardet<4,>=3.0.2 in /usr/local/lib/python3.7/dist-packages (from requests->autorom[accept-rom-license]~=0.4.2->gym[accept-rom-license,atari,box2d]) (3.0.4)\n",
            "Requirement already satisfied: certifi>=2017.4.17 in /usr/local/lib/python3.7/dist-packages (from requests->autorom[accept-rom-license]~=0.4.2->gym[accept-rom-license,atari,box2d]) (2021.10.8)\n",
            "Requirement already satisfied: idna<3,>=2.5 in /usr/local/lib/python3.7/dist-packages (from requests->autorom[accept-rom-license]~=0.4.2->gym[accept-rom-license,atari,box2d]) (2.10)\n",
            "Building wheels for collected packages: AutoROM.accept-rom-license\n",
            "  Building wheel for AutoROM.accept-rom-license (PEP 517) ... \u001b[?25l\u001b[?25hdone\n",
            "  Created wheel for AutoROM.accept-rom-license: filename=AutoROM.accept_rom_license-0.4.2-py3-none-any.whl size=441027 sha256=439da6b7a319eca2a4c3c241109f9c8895030f35d5df60141ab6b3c3f5a2ccaf\n",
            "  Stored in directory: /root/.cache/pip/wheels/87/67/2e/6147e7912fe37f5408b80d07527dab807c1d25f5c403a9538a\n",
            "Successfully built AutoROM.accept-rom-license\n",
            "Installing collected packages: AutoROM.accept-rom-license, autorom, box2d-py, ale-py\n",
            "Successfully installed AutoROM.accept-rom-license-0.4.2 ale-py-0.7.5 autorom-0.4.2 box2d-py-2.3.5\n"
          ]
        }
      ],
      "source": [
        "%pip install -U tf-agents pyvirtualdisplay\n",
        "%pip install -U gym>=0.21.0\n",
        "%pip install -U gym[box2d,atari,accept-rom-license]"
      ]
    },
    {
      "cell_type": "code",
      "source": [
        "import numpy as np\n",
        "%matplotlib inline\n",
        "import matplotlib as mpl\n",
        "import matplotlib.pyplot as plt\n",
        "import gym\n",
        "\n",
        "import math\n",
        "import random\n",
        "\n",
        "import matplotlib.pyplot as plt\n",
        "from collections import namedtuple, deque\n",
        "from itertools import count\n",
        "from PIL import Image\n",
        "#from google.colab import output\n",
        "import torch\n",
        "import torch.nn as nn\n",
        "import torch.optim as optim\n",
        "import torch.nn.functional as F\n",
        "import torchvision.transforms as T\n"
      ],
      "metadata": {
        "id": "I63BFaxBXZuZ"
      },
      "execution_count": null,
      "outputs": []
    },
    {
      "cell_type": "code",
      "source": [
        "env=gym.make(\"ALE/Boxing-v5\")\n",
        "device = torch.device(\"cuda\" if torch.cuda.is_available() else \"cpu\")"
      ],
      "metadata": {
        "id": "IK2NmhvYYFbt"
      },
      "execution_count": null,
      "outputs": []
    },
    {
      "cell_type": "code",
      "source": [
        "plt.imshow(env.render(mode=\"rgb_array\"))\n",
        "plt.show()"
      ],
      "metadata": {
        "colab": {
          "base_uri": "https://localhost:8080/",
          "height": 269
        },
        "id": "rGyadaZ-YKu3",
        "outputId": "ff9905b5-b5ce-46ff-d799-2c07e79a739b"
      },
      "execution_count": null,
      "outputs": [
        {
          "output_type": "display_data",
          "data": {
            "text/plain": [
              "<Figure size 432x288 with 1 Axes>"
            ],
            "image/png": "[encoded data removed]"
          },
          "metadata": {
            "needs_background": "light"
          }
        }
      ]
    },
    {
      "cell_type": "code",
      "source": [
        "print(\"Observation Space : \" , env.observation_space)\n",
        "print(\"Action Space : \" ,env.action_space)"
      ],
      "metadata": {
        "colab": {
          "base_uri": "https://localhost:8080/"
        },
        "id": "q9PreKeKYecg",
        "outputId": "0470e71f-f243-4037-d4a5-cf73f12c5c4b"
      },
      "execution_count": null,
      "outputs": [
        {
          "output_type": "stream",
          "name": "stdout",
          "text": [
            "Observation Space :  Box(0, 255, (210, 160, 3), uint8)\n",
            "Action Space :  Discrete(18)\n"
          ]
        }
      ]
    },
    {
      "cell_type": "code",
      "source": [
        "Transition = namedtuple('Transition',\n",
        "                        ('state', 'action', 'next_state', 'reward'))\n",
        "\n",
        "class ReplayMemory(object):\n",
        "\n",
        "    def __init__(self, capacity):\n",
        "        self.memory = deque([],maxlen=capacity)\n",
        "\n",
        "    def push(self, *args):\n",
        "        \"\"\"Save a transition\"\"\"\n",
        "        self.memory.append(Transition(*args))\n",
        "\n",
        "    def sample(self, batch_size):\n",
        "        return random.sample(self.memory, batch_size)\n",
        "\n",
        "    def __len__(self):\n",
        "        return len(self.memory)"
      ],
      "metadata": {
        "id": "9RS2MeSaZPHH"
      },
      "execution_count": null,
      "outputs": []
    },
    {
      "cell_type": "code",
      "source": [
        "class DQN(nn.Module):\n",
        "\n",
        "    def __init__(self, h, w, outputs):\n",
        "        super(DQN, self).__init__()\n",
        "\n",
        "        def conv2d_size_out(size, kernel_size = 5, stride = 2):\n",
        "            return (size - (kernel_size - 1) - 1) // stride  + 1\n",
        "\n",
        "        convw = conv2d_size_out(conv2d_size_out(conv2d_size_out(w)))\n",
        "        convh = conv2d_size_out(conv2d_size_out(conv2d_size_out(h)))\n",
        "        linear_input_size = convw * convh * 32\n",
        "\n",
        "        self.model_conv = nn.Sequential(nn.Conv2d(3, 3, kernel_size=5, stride=2),\n",
        "                              nn.BatchNorm2d(3),\n",
        "                              nn.ReLU(),\n",
        "                              nn.Conv2d(3, 18, kernel_size=5, stride=2),\n",
        "                              nn.BatchNorm2d(18),\n",
        "                              nn.ReLU(),\n",
        "                              nn.Conv2d(18, 32, kernel_size=5, stride=2),\n",
        "                              nn.BatchNorm2d(32),\n",
        "                              nn.ReLU(),\n",
        "                              )\n",
        "        self.model_linear = nn.Sequential(nn.Linear(linear_input_size, 32),\n",
        "                                     nn.ReLU(),\n",
        "                                     nn.Linear(32, 32),\n",
        "                                     nn.ReLU(),\n",
        "                                     nn.Linear(32, outputs)\n",
        "                                     )\n",
        "\n",
        "\n",
        "    def forward(self, x):\n",
        "        x = x.to(device)\n",
        "        x = self.model_conv(x)\n",
        "        x = self.model_linear(x.view(x.size(0), -1))\n",
        "        return x"
      ],
      "metadata": {
        "id": "uFdFilIxDnX7"
      },
      "execution_count": null,
      "outputs": []
    },
    {
      "cell_type": "code",
      "source": [
        "resize = T.Compose([T.ToPILImage(),\n",
        "                    T.Resize(30, interpolation=Image.CUBIC),\n",
        "                    T.ToTensor()])\n",
        "\n",
        "\n",
        "def reduce_dim(obs):\n",
        "    obs = obs.transpose((2, 0, 1))\n",
        "    obs = torch.from_numpy(obs)\n",
        "    return resize(obs).unsqueeze(0)"
      ],
      "metadata": {
        "colab": {
          "base_uri": "https://localhost:8080/",
          "height": 336
        },
        "id": "FoTRTJY1Dp8u",
        "outputId": "73a6213a-0932-4092-cc75-915bdf35baac"
      },
      "execution_count": null,
      "outputs": [
        {
          "output_type": "stream",
          "name": "stderr",
          "text": [
            "/usr/local/lib/python3.7/dist-packages/torchvision/transforms/transforms.py:333: UserWarning: Argument interpolation should be of type InterpolationMode instead of int. Please, use InterpolationMode enum.\n",
            "  \"Argument interpolation should be of type InterpolationMode instead of int. \"\n"
          ]
        },
        {
          "output_type": "display_data",
          "data": {
            "text/plain": [
              "<Figure size 432x288 with 1 Axes>"
            ],
            "image/png": "[encoded data removed]"
          },
          "metadata": {
            "needs_background": "light"
          }
        }
      ]
    },
    {
      "cell_type": "code",
      "source": [
        "def optimize_model():\n",
        "    if len(memory) < BATCH_SIZE:\n",
        "        return\n",
        "    transitions = memory.sample(BATCH_SIZE)\n",
        "    batch = Transition(*zip(*transitions))\n",
        "\n",
        "    state_batch = torch.cat(batch.state)\n",
        "    action_batch = torch.cat(batch.action)\n",
        "    reward_batch = torch.cat(batch.reward)\n",
        "    next_state_batch = torch.cat(batch.next_state) \n",
        "\n",
        "    state_action_values = policy_net(state_batch).gather(1, action_batch)\n",
        "    next_state_values = target_net(next_state_batch).max(1)[0].detach()\n",
        "\n",
        "    expected_state_action_values = (next_state_values * GAMMA) + reward_batch\n",
        "\n",
        "\n",
        "    criterion = nn.MSELoss()\n",
        "    loss = criterion(state_action_values, expected_state_action_values.unsqueeze(1))\n",
        "\n",
        "    optimizer.zero_grad()\n",
        "    loss.backward()\n",
        "    for param in policy_net.parameters():\n",
        "        param.grad.data.clamp_(-1, 1)\n",
        "    optimizer.step()"
      ],
      "metadata": {
        "id": "ulLxzgCKDxLo"
      },
      "execution_count": null,
      "outputs": []
    },
    {
      "cell_type": "code",
      "source": [
        "BATCH_SIZE = 128\n",
        "GAMMA = 0.99\n",
        "TARGET_UPDATE = 10\n",
        "Learning_rate=0.005\n",
        "\n",
        "\n",
        "obs = reduce_dim(env.reset())\n",
        "_, _,height, width = obs.shape\n",
        "n_actions = env.action_space.n\n",
        "\n",
        "policy_net = DQN(height, width, n_actions).to(device)\n",
        "target_net = DQN(height, width, n_actions).to(device)\n",
        "target_net.load_state_dict(policy_net.state_dict())\n",
        "target_net.eval()\n",
        "\n",
        "optimizer = optim.RMSprop(policy_net.parameters(),lr=Learning_rate)\n",
        "memory = ReplayMemory(100000000)\n",
        "\n",
        "\n",
        "steps_done = 0\n",
        "\n",
        "\n",
        "def select_action(state,episod,max_episod):\n",
        "    ep = np.exp(-8*episod/max_episod)\n",
        "    action_prob= ep*np.ones((env.action_space.n,))/env.action_space.n\n",
        "    greedy_action=policy_net(state).max(1)[1].view(1, 1)\n",
        "    greedy_action=greedy_action.item()\n",
        "    action_prob[greedy_action] += 1 - ep\n",
        "    action_prob = action_prob/np.sum(action_prob)\n",
        "    action = np.random.choice(range(env.action_space.n),p=action_prob)\n",
        "    return   torch.Tensor([[action]]).type(torch.int64).to(device) , ep\n"
      ],
      "metadata": {
        "id": "8n1CKfrxD0Db"
      },
      "execution_count": null,
      "outputs": []
    },
    {
      "cell_type": "code",
      "source": [
        "num_episodes = 100\n",
        "rewardPerEpisode=[]\n",
        "action_taken=[]\n",
        "time_taken=[]\n",
        "eps = []\n",
        "for i_episode in range(num_episodes):\n",
        "    obs = env.reset()\n",
        "    state = reduce_dim(obs)\n",
        "    acc_reward= 0 \n",
        "    for t in count():\n",
        "\n",
        "        action , ep  = select_action(state,i_episode,num_episodes)\n",
        "        action_taken.append(action.item())\n",
        "        obs, reward, done, _ = env.step(action.item())\n",
        "\n",
        "        acc_reward += reward\n",
        "        next_state = reduce_dim(obs)\n",
        "\n",
        "        reward = torch.tensor([reward], device=device)\n",
        "        memory.push(state, action, next_state, reward)\n",
        "\n",
        "        state = next_state\n",
        "        optimize_model()\n",
        "        if done :\n",
        "          rewardPerEpisode.append(acc_reward)\n",
        "          time_taken.append(t)\n",
        "          eps.append(ep)\n",
        "          break\n",
        "    \n",
        "    if i_episode % TARGET_UPDATE == 0:\n",
        "        target_net.load_state_dict(policy_net.state_dict())\n",
        "    print(i_episode,rewardPerEpisode[i_episode], time_taken[i_episode], eps[i_episode])\n",
        "\n",
        "print('Complete')"
      ],
      "metadata": {
        "colab": {
          "base_uri": "https://localhost:8080/"
        },
        "id": "QMVvYyVCD2nE",
        "outputId": "f84c5c73-ca26-4fca-d52f-81132645dd06"
      },
      "execution_count": null,
      "outputs": [
        {
          "output_type": "stream",
          "name": "stdout",
          "text": [
            "0 2.0 1786 1.0\n",
            "1 -1.0 1786 0.9231163463866358\n",
            "2 -3.0 1786 0.8521437889662113\n",
            "3 0.0 1786 0.7866278610665535\n",
            "4 5.0 1786 0.7261490370736909\n",
            "5 5.0 1786 0.6703200460356393\n",
            "6 -8.0 1786 0.6187833918061408\n",
            "7 1.0 1786 0.5712090638488149\n",
            "8 3.0 1786 0.5272924240430485\n",
            "9 -1.0 1786 0.4867522559599717\n",
            "10 -7.0 1786 0.44932896411722156\n",
            "11 -12.0 1786 0.4147829116815814\n",
            "12 -2.0 1786 0.38289288597511206\n",
            "13 -5.0 1786 0.35345468195878016\n",
            "14 -34.0 1786 0.32627979462303947\n",
            "15 -8.0 1786 0.30119421191220214\n",
            "16 -1.0 1786 0.27803730045319414\n",
            "17 -19.0 1786 0.2566607769535559\n",
            "18 -3.0 1786 0.23692775868212176\n",
            "19 -14.0 1786 0.21871188695221475\n",
            "20 -6.0 1786 0.20189651799465538\n",
            "21 4.0 1786 0.18637397603940997\n",
            "22 -7.0 1786 0.17204486382305054\n",
            "23 -17.0 1786 0.15881742610692068\n",
            "24 -28.0 1786 0.14660696213035015\n",
            "25 -24.0 1786 0.1353352832366127\n",
            "26 -23.0 1786 0.12493021219858241\n",
            "27 -20.0 1786 0.11532512103806251\n",
            "28 -7.0 1786 0.1064585043792528\n",
            "29 -17.0 1786 0.09827358560436154\n",
            "30 -13.0 1786 0.09071795328941251\n",
            "31 -15.0 1786 0.08374322559219596\n",
            "32 -30.0 1786 0.07730474044329974\n",
            "33 -29.0 1786 0.07136126955638605\n",
            "34 -24.0 1786 0.06587475442640295\n",
            "35 -25.0 1786 0.06081006262521797\n",
            "36 -14.0 1786 0.056134762834133725\n",
            "37 -11.0 1786 0.05181891717272583\n",
            "38 0.0 1786 0.04783488949419837\n",
            "39 -4.0 1786 0.04415716841969286\n",
            "40 -26.0 1786 0.04076220397836621\n",
            "41 -28.0 1786 0.03762825680717622\n",
            "42 -30.0 1786 0.03473525894473856\n",
            "43 -15.0 1786 0.03206468532786077\n",
            "44 -18.0 1786 0.029599435167892\n",
            "45 -14.0 1786 0.02732372244729256\n",
            "46 -19.0 1786 0.025222974835227212\n",
            "47 -23.0 1786 0.02328374037489701\n",
            "48 -39.0 1786 0.021493601345089923\n",
            "49 -26.0 1786 0.019841094744370288\n",
            "50 -19.0 1786 0.01831563888873418\n",
            "51 -36.0 1786 0.01690746565270528\n",
            "52 -31.0 1786 0.01560755791998283\n",
            "53 -29.0 1786 0.01440759184311235\n",
            "54 -24.0 1786 0.013299883542443767\n",
            "55 -35.0 1786 0.012277339903068436\n",
            "56 -26.0 1786 0.011333413154667387\n",
            "57 -26.0 1786 0.010462058943426803\n",
            "58 -20.0 1786 0.009657697627537777\n",
            "59 -31.0 1786 0.008915178548439553\n",
            "60 -39.0 1786 0.00822974704902003\n",
            "61 -51.0 1786 0.007597014027577567\n",
            "62 -48.0 1786 0.007012927832585425\n",
            "63 -36.0 1786 0.006473748318289405\n",
            "64 -32.0 1786 0.005976022895005943\n",
            "65 -13.0 1786 0.0055165644207607716\n",
            "66 -15.0 1786 0.00509243079269919\n",
            "67 -28.0 1786 0.004700906107583276\n",
            "68 -13.0 1786 0.004339483270738895\n",
            "69 -14.0 1786 0.00400584794209042\n",
            "70 -27.0 1786 0.003697863716482932\n",
            "71 -27.0 1786 0.0034135584433954303\n",
            "72 -5.0 1786 0.0031511115984444414\n",
            "73 -42.0 1786 0.002908842625812584\n",
            "74 -12.0 1786 0.0026852001769538205\n",
            "75 -13.0 1786 0.0024787521766663585\n",
            "76 -32.0 1786 0.0022881766529221693\n",
            "77 -6.0 1786 0.002112253271732714\n",
            "78 -4.0 1786 0.0019498555228451206\n",
            "79 -31.0 1786 0.0017999435062305911\n",
            "80 -12.0 1786 0.001661557273173934\n",
            "81 -7.0 1786 0.001533810679324463\n",
            "82 -31.0 1786 0.0014158857103468033\n",
            "83 -12.0 1786 0.0013070272438363876\n",
            "84 -8.0 1786 0.0012065382139580404\n",
            "85 -12.0 1786 0.0011137751478448032\n",
            "86 -1.0 1786 0.0010281440451747298\n",
            "87 2.0 1786 0.0009490965745408727\n",
            "88 -6.0 1786 0.0008761265622582417\n",
            "89 -19.0 1786 0.0008087667511241114\n",
            "90 1.0 1786 0.0007465858083766792\n",
            "91 -15.0 1786 0.0006891855636927931\n",
            "92 -8.0 1786 0.0006361984595385052\n",
            "93 -4.0 1786 0.0005872851975459907\n",
            "94 -6.0 1786 0.000542132565845609\n",
            "95 -33.0 1786 0.0005004514334406108\n",
            "96 2.0 1786 0.0004619748987816513\n",
            "97 -4.0 1786 0.00042645658068565383\n",
            "98 -2.0 1786 0.0003936690406550783\n",
            "99 -15.0 1786 0.0003634023264950478\n",
            "Complete\n"
          ]
        }
      ]
    },
    {
      "cell_type": "code",
      "source": [
        "plt.plot(rewardPerEpisode)\n",
        "plt.figure()\n",
        "plt.plot(time_taken)\n",
        "plt.figure()\n",
        "plt.plot(eps)\n",
        "plt.figure()\n",
        "plt.hist(action_taken)\n",
        "plt.show()"
      ],
      "metadata": {
        "colab": {
          "base_uri": "https://localhost:8080/",
          "height": 778
        },
        "id": "E2USwDiPD5Km",
        "outputId": "069d7a40-17d5-44b5-80a6-ec42c9b2bfee"
      },
      "execution_count": null,
      "outputs": [
        {
          "output_type": "stream",
          "name": "stdout",
          "text": [
            "[-100.0, -100.0]\n"
          ]
        },
        {
          "output_type": "display_data",
          "data": {
            "text/plain": [
              "<Figure size 432x288 with 1 Axes>"
            ],
            "image/png": "[encoded data removed]"
          },
          "metadata": {
            "needs_background": "light"
          }
        },
        {
          "output_type": "display_data",
          "data": {
            "text/plain": [
              "<Figure size 432x288 with 1 Axes>"
            ],
            "image/png": "[encoded data removed]"
          },
          "metadata": {
            "needs_background": "light"
          }
        },
        {
          "output_type": "display_data",
          "data": {
            "text/plain": [
              "<Figure size 432x288 with 1 Axes>"
            ],
            "image/png": "[encoded data removed]"
          },
          "metadata": {
            "needs_background": "light"
          }
        }
      ]
    },
    {
      "cell_type": "code",
      "source": [
        "num_episodes = 10\n",
        "rewardPerEpisode=[]\n",
        "action_taken=[]\n",
        "time_taken=[]\n",
        "for i_episode in range(num_episodes):\n",
        "    obs = env.reset()\n",
        "    state = reduce_dim(obs)\n",
        "    acc_reward= 0 \n",
        "    for t in count():\n",
        "\n",
        "        action, ep= select_action(state,num_episodes,num_episodes)\n",
        "        action_taken.append(action.item())\n",
        "        obs, reward, done, _ = env.step(action.item())\n",
        "        acc_reward += reward\n",
        "        reward = torch.tensor([reward], device=device)\n",
        "        next_state = reduce_dim(obs)\n",
        "        state = next_state\n",
        "        if done :\n",
        "          rewardPerEpisode.append(acc_reward)\n",
        "          time_taken.append(t)\n",
        "          print(i_episode,rewardPerEpisode[i_episode], time_taken[i_episode])\n",
        "          break\n",
        "\n",
        "print('Complete')"
      ],
      "metadata": {
        "colab": {
          "base_uri": "https://localhost:8080/"
        },
        "id": "84GRpj25D8Zw",
        "outputId": "586b04fd-9c0e-40b7-8d67-bf097380cb2f"
      },
      "execution_count": null,
      "outputs": [
        {
          "output_type": "stream",
          "name": "stdout",
          "text": [
            "0 -100.0 1721\n",
            "1 -100.0 1568\n",
            "2 -89.0 1786\n",
            "3 -100.0 1721\n",
            "4 -98.0 1745\n",
            "5 -100.0 1721\n",
            "6 -100.0 1568\n",
            "7 -98.0 1786\n",
            "8 -100.0 1568\n",
            "9 -92.0 1786\n",
            "Complete\n"
          ]
        }
      ]
    },
    {
      "cell_type": "code",
      "source": [
        "plt.plot(rewardPerEpisode)\n",
        "plt.figure()\n",
        "plt.plot(time_taken)\n",
        "plt.figure()\n",
        "plt.hist(action_taken)\n",
        "plt.show()"
      ],
      "metadata": {
        "colab": {
          "base_uri": "https://localhost:8080/",
          "height": 765
        },
        "id": "wmVRPEIzD-qi",
        "outputId": "21445e56-8303-4e9a-f8c2-2a55d57e457c"
      },
      "execution_count": null,
      "outputs": [
        {
          "output_type": "display_data",
          "data": {
            "text/plain": [
              "<Figure size 432x288 with 1 Axes>"
            ],
            "image/png": "[encoded data removed]"
          },
          "metadata": {
            "needs_background": "light"
          }
        },
        {
          "output_type": "display_data",
          "data": {
            "text/plain": [
              "<Figure size 432x288 with 1 Axes>"
            ],
            "image/png": "[encoded data removed]"
          },
          "metadata": {
            "needs_background": "light"
          }
        },
        {
          "output_type": "display_data",
          "data": {
            "text/plain": [
              "<Figure size 432x288 with 1 Axes>"
            ],
            "image/png": "[encoded data removed]"
          },
          "metadata": {
            "needs_background": "light"
          }
        }
      ]
    },
    {
      "cell_type": "code",
      "source": [
        ""
      ],
      "metadata": {
        "id": "NTUuoHaJWAiM"
      },
      "execution_count": null,
      "outputs": []
    }
  ]
}