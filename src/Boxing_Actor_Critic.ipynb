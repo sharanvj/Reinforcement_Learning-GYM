{
  "nbformat": 4,
  "nbformat_minor": 0,
  "metadata": {
    "colab": {
      "name": "Boxing_actor_critic.ipynb",
      "provenance": [],
      "collapsed_sections": []
    },
    "kernelspec": {
      "name": "python3",
      "display_name": "Python 3"
    },
    "language_info": {
      "name": "python"
    },
    "accelerator": "GPU"
  },
  "cells": [
    {
      "cell_type": "code",
      "source": [
        "%pip install -U tf-agents pyvirtualdisplay\n",
        "%pip install -U gym>=0.21.0\n",
        "%pip install -U gym[box2d,atari,accept-rom-license]"
      ],
      "metadata": {
        "colab": {
          "base_uri": "https://localhost:8080/"
        },
        "id": "rO5xqL0ytey5",
        "outputId": "b0143ec9-9113-4792-f166-ad110a6fc07f"
      },
      "execution_count": null,
      "outputs": [
        {
          "output_type": "stream",
          "name": "stdout",
          "text": [
            "Collecting tf-agents\n",
            "  Downloading tf_agents-0.12.1-py3-none-any.whl (1.3 MB)\n",
            "\u001b[?25l\r\u001b[K     |▎                               | 10 kB 21.5 MB/s eta 0:00:01\r\u001b[K     |▌                               | 20 kB 6.5 MB/s eta 0:00:01\r\u001b[K     |▊                               | 30 kB 3.9 MB/s eta 0:00:01\r\u001b[K     |█                               | 40 kB 5.0 MB/s eta 0:00:01\r\u001b[K     |█▎                              | 51 kB 4.7 MB/s eta 0:00:01\r\u001b[K     |█▌                              | 61 kB 5.5 MB/s eta 0:00:01\r\u001b[K     |█▊                              | 71 kB 5.9 MB/s eta 0:00:01\r\u001b[K     |██                              | 81 kB 6.0 MB/s eta 0:00:01\r\u001b[K     |██▎                             | 92 kB 6.6 MB/s eta 0:00:01\r\u001b[K     |██▌                             | 102 kB 6.4 MB/s eta 0:00:01\r\u001b[K     |██▊                             | 112 kB 6.4 MB/s eta 0:00:01\r\u001b[K     |███                             | 122 kB 6.4 MB/s eta 0:00:01\r\u001b[K     |███▎                            | 133 kB 6.4 MB/s eta 0:00:01\r\u001b[K     |███▌                            | 143 kB 6.4 MB/s eta 0:00:01\r\u001b[K     |███▊                            | 153 kB 6.4 MB/s eta 0:00:01\r\u001b[K     |████                            | 163 kB 6.4 MB/s eta 0:00:01\r\u001b[K     |████▎                           | 174 kB 6.4 MB/s eta 0:00:01\r\u001b[K     |████▌                           | 184 kB 6.4 MB/s eta 0:00:01\r\u001b[K     |████▊                           | 194 kB 6.4 MB/s eta 0:00:01\r\u001b[K     |█████                           | 204 kB 6.4 MB/s eta 0:00:01\r\u001b[K     |█████▎                          | 215 kB 6.4 MB/s eta 0:00:01\r\u001b[K     |█████▌                          | 225 kB 6.4 MB/s eta 0:00:01\r\u001b[K     |█████▊                          | 235 kB 6.4 MB/s eta 0:00:01\r\u001b[K     |██████                          | 245 kB 6.4 MB/s eta 0:00:01\r\u001b[K     |██████▎                         | 256 kB 6.4 MB/s eta 0:00:01\r\u001b[K     |██████▌                         | 266 kB 6.4 MB/s eta 0:00:01\r\u001b[K     |██████▊                         | 276 kB 6.4 MB/s eta 0:00:01\r\u001b[K     |███████                         | 286 kB 6.4 MB/s eta 0:00:01\r\u001b[K     |███████▎                        | 296 kB 6.4 MB/s eta 0:00:01\r\u001b[K     |███████▌                        | 307 kB 6.4 MB/s eta 0:00:01\r\u001b[K     |███████▊                        | 317 kB 6.4 MB/s eta 0:00:01\r\u001b[K     |████████                        | 327 kB 6.4 MB/s eta 0:00:01\r\u001b[K     |████████▎                       | 337 kB 6.4 MB/s eta 0:00:01\r\u001b[K     |████████▌                       | 348 kB 6.4 MB/s eta 0:00:01\r\u001b[K     |████████▊                       | 358 kB 6.4 MB/s eta 0:00:01\r\u001b[K     |█████████                       | 368 kB 6.4 MB/s eta 0:00:01\r\u001b[K     |█████████▎                      | 378 kB 6.4 MB/s eta 0:00:01\r\u001b[K     |█████████▌                      | 389 kB 6.4 MB/s eta 0:00:01\r\u001b[K     |█████████▊                      | 399 kB 6.4 MB/s eta 0:00:01\r\u001b[K     |██████████                      | 409 kB 6.4 MB/s eta 0:00:01\r\u001b[K     |██████████▎                     | 419 kB 6.4 MB/s eta 0:00:01\r\u001b[K     |██████████▌                     | 430 kB 6.4 MB/s eta 0:00:01\r\u001b[K     |██████████▊                     | 440 kB 6.4 MB/s eta 0:00:01\r\u001b[K     |███████████                     | 450 kB 6.4 MB/s eta 0:00:01\r\u001b[K     |███████████▎                    | 460 kB 6.4 MB/s eta 0:00:01\r\u001b[K     |███████████▌                    | 471 kB 6.4 MB/s eta 0:00:01\r\u001b[K     |███████████▊                    | 481 kB 6.4 MB/s eta 0:00:01\r\u001b[K     |████████████                    | 491 kB 6.4 MB/s eta 0:00:01\r\u001b[K     |████████████▎                   | 501 kB 6.4 MB/s eta 0:00:01\r\u001b[K     |████████████▌                   | 512 kB 6.4 MB/s eta 0:00:01\r\u001b[K     |████████████▊                   | 522 kB 6.4 MB/s eta 0:00:01\r\u001b[K     |█████████████                   | 532 kB 6.4 MB/s eta 0:00:01\r\u001b[K     |█████████████▎                  | 542 kB 6.4 MB/s eta 0:00:01\r\u001b[K     |█████████████▌                  | 552 kB 6.4 MB/s eta 0:00:01\r\u001b[K     |█████████████▉                  | 563 kB 6.4 MB/s eta 0:00:01\r\u001b[K     |██████████████                  | 573 kB 6.4 MB/s eta 0:00:01\r\u001b[K     |██████████████▎                 | 583 kB 6.4 MB/s eta 0:00:01\r\u001b[K     |██████████████▌                 | 593 kB 6.4 MB/s eta 0:00:01\r\u001b[K     |██████████████▉                 | 604 kB 6.4 MB/s eta 0:00:01\r\u001b[K     |███████████████                 | 614 kB 6.4 MB/s eta 0:00:01\r\u001b[K     |███████████████▎                | 624 kB 6.4 MB/s eta 0:00:01\r\u001b[K     |███████████████▌                | 634 kB 6.4 MB/s eta 0:00:01\r\u001b[K     |███████████████▉                | 645 kB 6.4 MB/s eta 0:00:01\r\u001b[K     |████████████████                | 655 kB 6.4 MB/s eta 0:00:01\r\u001b[K     |████████████████▎               | 665 kB 6.4 MB/s eta 0:00:01\r\u001b[K     |████████████████▌               | 675 kB 6.4 MB/s eta 0:00:01\r\u001b[K     |████████████████▉               | 686 kB 6.4 MB/s eta 0:00:01\r\u001b[K     |█████████████████               | 696 kB 6.4 MB/s eta 0:00:01\r\u001b[K     |█████████████████▎              | 706 kB 6.4 MB/s eta 0:00:01\r\u001b[K     |█████████████████▌              | 716 kB 6.4 MB/s eta 0:00:01\r\u001b[K     |█████████████████▉              | 727 kB 6.4 MB/s eta 0:00:01\r\u001b[K     |██████████████████              | 737 kB 6.4 MB/s eta 0:00:01\r\u001b[K     |██████████████████▎             | 747 kB 6.4 MB/s eta 0:00:01\r\u001b[K     |██████████████████▌             | 757 kB 6.4 MB/s eta 0:00:01\r\u001b[K     |██████████████████▉             | 768 kB 6.4 MB/s eta 0:00:01\r\u001b[K     |███████████████████             | 778 kB 6.4 MB/s eta 0:00:01\r\u001b[K     |███████████████████▎            | 788 kB 6.4 MB/s eta 0:00:01\r\u001b[K     |███████████████████▌            | 798 kB 6.4 MB/s eta 0:00:01\r\u001b[K     |███████████████████▉            | 808 kB 6.4 MB/s eta 0:00:01\r\u001b[K     |████████████████████            | 819 kB 6.4 MB/s eta 0:00:01\r\u001b[K     |████████████████████▎           | 829 kB 6.4 MB/s eta 0:00:01\r\u001b[K     |████████████████████▌           | 839 kB 6.4 MB/s eta 0:00:01\r\u001b[K     |████████████████████▉           | 849 kB 6.4 MB/s eta 0:00:01\r\u001b[K     |█████████████████████           | 860 kB 6.4 MB/s eta 0:00:01\r\u001b[K     |█████████████████████▎          | 870 kB 6.4 MB/s eta 0:00:01\r\u001b[K     |█████████████████████▌          | 880 kB 6.4 MB/s eta 0:00:01\r\u001b[K     |█████████████████████▉          | 890 kB 6.4 MB/s eta 0:00:01\r\u001b[K     |██████████████████████          | 901 kB 6.4 MB/s eta 0:00:01\r\u001b[K     |██████████████████████▎         | 911 kB 6.4 MB/s eta 0:00:01\r\u001b[K     |██████████████████████▌         | 921 kB 6.4 MB/s eta 0:00:01\r\u001b[K     |██████████████████████▉         | 931 kB 6.4 MB/s eta 0:00:01\r\u001b[K     |███████████████████████         | 942 kB 6.4 MB/s eta 0:00:01\r\u001b[K     |███████████████████████▎        | 952 kB 6.4 MB/s eta 0:00:01\r\u001b[K     |███████████████████████▌        | 962 kB 6.4 MB/s eta 0:00:01\r\u001b[K     |███████████████████████▉        | 972 kB 6.4 MB/s eta 0:00:01\r\u001b[K     |████████████████████████        | 983 kB 6.4 MB/s eta 0:00:01\r\u001b[K     |████████████████████████▎       | 993 kB 6.4 MB/s eta 0:00:01\r\u001b[K     |████████████████████████▌       | 1.0 MB 6.4 MB/s eta 0:00:01\r\u001b[K     |████████████████████████▉       | 1.0 MB 6.4 MB/s eta 0:00:01\r\u001b[K     |█████████████████████████       | 1.0 MB 6.4 MB/s eta 0:00:01\r\u001b[K     |█████████████████████████▎      | 1.0 MB 6.4 MB/s eta 0:00:01\r\u001b[K     |█████████████████████████▌      | 1.0 MB 6.4 MB/s eta 0:00:01\r\u001b[K     |█████████████████████████▉      | 1.1 MB 6.4 MB/s eta 0:00:01\r\u001b[K     |██████████████████████████      | 1.1 MB 6.4 MB/s eta 0:00:01\r\u001b[K     |██████████████████████████▎     | 1.1 MB 6.4 MB/s eta 0:00:01\r\u001b[K     |██████████████████████████▋     | 1.1 MB 6.4 MB/s eta 0:00:01\r\u001b[K     |██████████████████████████▉     | 1.1 MB 6.4 MB/s eta 0:00:01\r\u001b[K     |███████████████████████████     | 1.1 MB 6.4 MB/s eta 0:00:01\r\u001b[K     |███████████████████████████▎    | 1.1 MB 6.4 MB/s eta 0:00:01\r\u001b[K     |███████████████████████████▋    | 1.1 MB 6.4 MB/s eta 0:00:01\r\u001b[K     |███████████████████████████▉    | 1.1 MB 6.4 MB/s eta 0:00:01\r\u001b[K     |████████████████████████████    | 1.1 MB 6.4 MB/s eta 0:00:01\r\u001b[K     |████████████████████████████▎   | 1.2 MB 6.4 MB/s eta 0:00:01\r\u001b[K     |████████████████████████████▋   | 1.2 MB 6.4 MB/s eta 0:00:01\r\u001b[K     |████████████████████████████▉   | 1.2 MB 6.4 MB/s eta 0:00:01\r\u001b[K     |█████████████████████████████   | 1.2 MB 6.4 MB/s eta 0:00:01\r\u001b[K     |█████████████████████████████▎  | 1.2 MB 6.4 MB/s eta 0:00:01\r\u001b[K     |█████████████████████████████▋  | 1.2 MB 6.4 MB/s eta 0:00:01\r\u001b[K     |█████████████████████████████▉  | 1.2 MB 6.4 MB/s eta 0:00:01\r\u001b[K     |██████████████████████████████  | 1.2 MB 6.4 MB/s eta 0:00:01\r\u001b[K     |██████████████████████████████▎ | 1.2 MB 6.4 MB/s eta 0:00:01\r\u001b[K     |██████████████████████████████▋ | 1.2 MB 6.4 MB/s eta 0:00:01\r\u001b[K     |██████████████████████████████▉ | 1.3 MB 6.4 MB/s eta 0:00:01\r\u001b[K     |███████████████████████████████ | 1.3 MB 6.4 MB/s eta 0:00:01\r\u001b[K     |███████████████████████████████▎| 1.3 MB 6.4 MB/s eta 0:00:01\r\u001b[K     |███████████████████████████████▋| 1.3 MB 6.4 MB/s eta 0:00:01\r\u001b[K     |███████████████████████████████▉| 1.3 MB 6.4 MB/s eta 0:00:01\r\u001b[K     |████████████████████████████████| 1.3 MB 6.4 MB/s \n",
            "\u001b[?25hCollecting pyvirtualdisplay\n",
            "  Downloading PyVirtualDisplay-3.0-py3-none-any.whl (15 kB)\n",
            "Requirement already satisfied: tensorflow-probability>=0.16.0 in /usr/local/lib/python3.7/dist-packages (from tf-agents) (0.16.0)\n",
            "Requirement already satisfied: numpy>=1.13.3 in /usr/local/lib/python3.7/dist-packages (from tf-agents) (1.21.6)\n",
            "Requirement already satisfied: pillow in /usr/local/lib/python3.7/dist-packages (from tf-agents) (7.1.2)\n",
            "Requirement already satisfied: protobuf>=3.11.3 in /usr/local/lib/python3.7/dist-packages (from tf-agents) (3.17.3)\n",
            "Requirement already satisfied: cloudpickle>=1.3 in /usr/local/lib/python3.7/dist-packages (from tf-agents) (1.3.0)\n",
            "Collecting pygame==2.1.0\n",
            "  Downloading pygame-2.1.0-cp37-cp37m-manylinux_2_17_x86_64.manylinux2014_x86_64.whl (18.3 MB)\n",
            "\u001b[K     |████████████████████████████████| 18.3 MB 57 kB/s \n",
            "\u001b[?25hRequirement already satisfied: typing-extensions>=3.7.4.3 in /usr/local/lib/python3.7/dist-packages (from tf-agents) (4.2.0)\n",
            "Requirement already satisfied: six>=1.10.0 in /usr/local/lib/python3.7/dist-packages (from tf-agents) (1.15.0)\n",
            "Requirement already satisfied: gym>=0.17.0 in /usr/local/lib/python3.7/dist-packages (from tf-agents) (0.17.3)\n",
            "Requirement already satisfied: absl-py>=0.6.1 in /usr/local/lib/python3.7/dist-packages (from tf-agents) (1.0.0)\n",
            "Requirement already satisfied: wrapt>=1.11.1 in /usr/local/lib/python3.7/dist-packages (from tf-agents) (1.14.0)\n",
            "Requirement already satisfied: gin-config>=0.4.0 in /usr/local/lib/python3.7/dist-packages (from tf-agents) (0.5.0)\n",
            "Requirement already satisfied: pyglet<=1.5.0,>=1.4.0 in /usr/local/lib/python3.7/dist-packages (from gym>=0.17.0->tf-agents) (1.5.0)\n",
            "Requirement already satisfied: scipy in /usr/local/lib/python3.7/dist-packages (from gym>=0.17.0->tf-agents) (1.4.1)\n",
            "Requirement already satisfied: future in /usr/local/lib/python3.7/dist-packages (from pyglet<=1.5.0,>=1.4.0->gym>=0.17.0->tf-agents) (0.16.0)\n",
            "Requirement already satisfied: decorator in /usr/local/lib/python3.7/dist-packages (from tensorflow-probability>=0.16.0->tf-agents) (4.4.2)\n",
            "Requirement already satisfied: gast>=0.3.2 in /usr/local/lib/python3.7/dist-packages (from tensorflow-probability>=0.16.0->tf-agents) (0.5.3)\n",
            "Requirement already satisfied: dm-tree in /usr/local/lib/python3.7/dist-packages (from tensorflow-probability>=0.16.0->tf-agents) (0.1.7)\n",
            "Installing collected packages: pygame, tf-agents, pyvirtualdisplay\n",
            "Successfully installed pygame-2.1.0 pyvirtualdisplay-3.0 tf-agents-0.12.1\n",
            "Requirement already satisfied: gym[accept-rom-license,atari,box2d] in /usr/local/lib/python3.7/dist-packages (0.23.1)\n",
            "Requirement already satisfied: numpy>=1.18.0 in /usr/local/lib/python3.7/dist-packages (from gym[accept-rom-license,atari,box2d]) (1.21.6)\n",
            "Requirement already satisfied: importlib-metadata>=4.10.0 in /usr/local/lib/python3.7/dist-packages (from gym[accept-rom-license,atari,box2d]) (4.11.3)\n",
            "Requirement already satisfied: cloudpickle>=1.2.0 in /usr/local/lib/python3.7/dist-packages (from gym[accept-rom-license,atari,box2d]) (1.3.0)\n",
            "Requirement already satisfied: gym-notices>=0.0.4 in /usr/local/lib/python3.7/dist-packages (from gym[accept-rom-license,atari,box2d]) (0.0.6)\n",
            "Collecting ale-py~=0.7.4\n",
            "  Downloading ale_py-0.7.5-cp37-cp37m-manylinux_2_17_x86_64.manylinux2014_x86_64.whl (1.6 MB)\n",
            "\u001b[K     |████████████████████████████████| 1.6 MB 6.5 MB/s \n",
            "\u001b[?25hCollecting autorom[accept-rom-license]~=0.4.2\n",
            "  Downloading AutoROM-0.4.2-py3-none-any.whl (16 kB)\n",
            "Requirement already satisfied: pygame==2.1.0 in /usr/local/lib/python3.7/dist-packages (from gym[accept-rom-license,atari,box2d]) (2.1.0)\n",
            "Collecting box2d-py==2.3.5\n",
            "  Downloading box2d_py-2.3.5-cp37-cp37m-manylinux1_x86_64.whl (2.1 MB)\n",
            "\u001b[K     |████████████████████████████████| 2.1 MB 28.4 MB/s \n",
            "\u001b[?25hRequirement already satisfied: importlib-resources in /usr/local/lib/python3.7/dist-packages (from ale-py~=0.7.4->gym[accept-rom-license,atari,box2d]) (5.7.1)\n",
            "Requirement already satisfied: tqdm in /usr/local/lib/python3.7/dist-packages (from autorom[accept-rom-license]~=0.4.2->gym[accept-rom-license,atari,box2d]) (4.64.0)\n",
            "Requirement already satisfied: click in /usr/local/lib/python3.7/dist-packages (from autorom[accept-rom-license]~=0.4.2->gym[accept-rom-license,atari,box2d]) (7.1.2)\n",
            "Requirement already satisfied: requests in /usr/local/lib/python3.7/dist-packages (from autorom[accept-rom-license]~=0.4.2->gym[accept-rom-license,atari,box2d]) (2.23.0)\n",
            "Collecting AutoROM.accept-rom-license\n",
            "  Downloading AutoROM.accept-rom-license-0.4.2.tar.gz (9.8 kB)\n",
            "  Installing build dependencies ... \u001b[?25l\u001b[?25hdone\n",
            "  Getting requirements to build wheel ... \u001b[?25l\u001b[?25hdone\n",
            "    Preparing wheel metadata ... \u001b[?25l\u001b[?25hdone\n",
            "Requirement already satisfied: zipp>=0.5 in /usr/local/lib/python3.7/dist-packages (from importlib-metadata>=4.10.0->gym[accept-rom-license,atari,box2d]) (3.8.0)\n",
            "Requirement already satisfied: typing-extensions>=3.6.4 in /usr/local/lib/python3.7/dist-packages (from importlib-metadata>=4.10.0->gym[accept-rom-license,atari,box2d]) (4.2.0)\n",
            "Requirement already satisfied: urllib3!=1.25.0,!=1.25.1,<1.26,>=1.21.1 in /usr/local/lib/python3.7/dist-packages (from requests->autorom[accept-rom-license]~=0.4.2->gym[accept-rom-license,atari,box2d]) (1.24.3)\n",
            "Requirement already satisfied: certifi>=2017.4.17 in /usr/local/lib/python3.7/dist-packages (from requests->autorom[accept-rom-license]~=0.4.2->gym[accept-rom-license,atari,box2d]) (2021.10.8)\n",
            "Requirement already satisfied: chardet<4,>=3.0.2 in /usr/local/lib/python3.7/dist-packages (from requests->autorom[accept-rom-license]~=0.4.2->gym[accept-rom-license,atari,box2d]) (3.0.4)\n",
            "Requirement already satisfied: idna<3,>=2.5 in /usr/local/lib/python3.7/dist-packages (from requests->autorom[accept-rom-license]~=0.4.2->gym[accept-rom-license,atari,box2d]) (2.10)\n",
            "Building wheels for collected packages: AutoROM.accept-rom-license\n",
            "  Building wheel for AutoROM.accept-rom-license (PEP 517) ... \u001b[?25l\u001b[?25hdone\n",
            "  Created wheel for AutoROM.accept-rom-license: filename=AutoROM.accept_rom_license-0.4.2-py3-none-any.whl size=441027 sha256=96e2d888a699761a0c3345e3d7e806591950290d28811610183cab18f0dd22f5\n",
            "  Stored in directory: /root/.cache/pip/wheels/87/67/2e/6147e7912fe37f5408b80d07527dab807c1d25f5c403a9538a\n",
            "Successfully built AutoROM.accept-rom-license\n",
            "Installing collected packages: AutoROM.accept-rom-license, autorom, box2d-py, ale-py\n",
            "Successfully installed AutoROM.accept-rom-license-0.4.2 ale-py-0.7.5 autorom-0.4.2 box2d-py-2.3.5\n"
          ]
        }
      ]
    },
    {
      "cell_type": "code",
      "execution_count": null,
      "metadata": {
        "id": "XY4Prjz-jFnx"
      },
      "outputs": [],
      "source": [
        "import matplotlib\n",
        "import gym\n",
        "import numpy as np\n",
        "%matplotlib inline\n",
        "import matplotlib.pyplot as plt\n",
        "import math\n",
        "import torch\n",
        "import torch.nn as nn\n",
        "import torch.optim as optim\n",
        "import torch.nn.functional as F\n",
        "import torchvision.transforms as T\n",
        "from itertools import count\n",
        "from PIL import Image\n",
        "\n",
        "device = torch.device(\"cuda\" if torch.cuda.is_available() else \"cpu\")"
      ]
    },
    {
      "cell_type": "code",
      "source": [
        "env=gym.make(\"ALE/Boxing-v5\")\n"
      ],
      "metadata": {
        "id": "6eAtCysYjS3V"
      },
      "execution_count": null,
      "outputs": []
    },
    {
      "cell_type": "code",
      "source": [
        "class DQN(nn.Module):\n",
        "\n",
        "    def __init__(self, h, w, outputs):\n",
        "        super(DQN, self).__init__()\n",
        "\n",
        "        def conv2d_size_out(size, kernel_size = 5, stride = 2):\n",
        "            return (size - (kernel_size - 1) - 1) // stride  + 1\n",
        "\n",
        "        convw = conv2d_size_out(conv2d_size_out(conv2d_size_out(w)))\n",
        "        convh = conv2d_size_out(conv2d_size_out(conv2d_size_out(h)))\n",
        "        linear_input_size = convw * convh * 32\n",
        "\n",
        "        self.model_conv = nn.Sequential(nn.Conv2d(3, 3, kernel_size=5, stride=2),\n",
        "                              nn.BatchNorm2d(3),\n",
        "                              nn.ReLU(),\n",
        "                              nn.Conv2d(3, 18, kernel_size=5, stride=2),\n",
        "                              nn.BatchNorm2d(18),\n",
        "                              nn.ReLU(),\n",
        "                              nn.Conv2d(18, 32, kernel_size=5, stride=2),\n",
        "                              nn.BatchNorm2d(32),\n",
        "                              nn.ReLU(),\n",
        "                              )\n",
        "        self.model_linear = nn.Sequential(nn.Linear(linear_input_size, 32),\n",
        "                                     nn.ReLU(),\n",
        "                                     nn.Linear(32, 32),\n",
        "                                     nn.ReLU()\n",
        "                                     )\n",
        "        self.actor = nn.Sequential(nn.Linear(32, outputs),\n",
        "                                     nn.Softmax() )\n",
        "        self.critic = nn.Sequential(nn.Linear(32, 1),\n",
        "                                     nn.Tanh() )\n",
        "\n",
        "\n",
        "    def forward(self, x):\n",
        "        x = x.to(device)\n",
        "        x = self.model_conv(x)\n",
        "        x = self.model_linear(x.view(x.size(0), -1))\n",
        "        return self.critic(x) , self.actor(x)"
      ],
      "metadata": {
        "id": "RVZvDQzqjaQ5"
      },
      "execution_count": null,
      "outputs": []
    },
    {
      "cell_type": "code",
      "source": [
        "resize = T.Compose([T.ToPILImage(),\n",
        "                    T.Resize(30, interpolation=Image.CUBIC),\n",
        "                    T.ToTensor()])\n",
        "\n",
        "\n",
        "def reduce_dim(obs):\n",
        "    obs = obs.transpose((2, 0, 1))\n",
        "    obs = torch.from_numpy(obs)\n",
        "    return resize(obs).unsqueeze(0)"
      ],
      "metadata": {
        "colab": {
          "base_uri": "https://localhost:8080/"
        },
        "id": "gNcW8LwNvMft",
        "outputId": "3adc412d-cb75-46eb-952d-e0bb37c7d4a0"
      },
      "execution_count": null,
      "outputs": [
        {
          "output_type": "stream",
          "name": "stderr",
          "text": [
            "/usr/local/lib/python3.7/dist-packages/torchvision/transforms/transforms.py:333: UserWarning: Argument interpolation should be of type InterpolationMode instead of int. Please, use InterpolationMode enum.\n",
            "  \"Argument interpolation should be of type InterpolationMode instead of int. \"\n"
          ]
        }
      ]
    },
    {
      "cell_type": "code",
      "source": [
        "\n",
        "Learning_rate = 0.001\n",
        "GAMMA=0.9\n",
        "\n",
        "obs = reduce_dim(env.reset())\n",
        "_, _,height, width = obs.shape\n",
        "n_actions = env.action_space.n\n",
        "\n",
        "agent = DQN(height, width, n_actions).to(device)\n",
        "optimizer = optim.RMSprop(agent.parameters(),lr=Learning_rate)\n"
      ],
      "metadata": {
        "id": "V4RqSiqdnjRQ"
      },
      "execution_count": null,
      "outputs": []
    },
    {
      "cell_type": "code",
      "source": [
        "EPS_START = 0.9\n",
        "EPS_END = 0.001\n",
        "EPS_DECAY = 14000\n",
        "\n",
        "def select_action(state):\n",
        "    _, actions =agent(state)\n",
        "    action_probs= torch.distributions.Categorical(probs=actions)\n",
        "    return   action_probs.sample()\n"
      ],
      "metadata": {
        "id": "k1Jqpyk1pMez"
      },
      "execution_count": null,
      "outputs": []
    },
    {
      "cell_type": "code",
      "source": [
        "def update_network(state, action,reward,next_state,done,t):\n",
        "  global steps_done , GAMMA\n",
        "  optimizer.zero_grad()\n",
        "  state_val, probs = agent(state)\n",
        "  next_state_val, _ = agent(next_state)\n",
        "  \n",
        "  action_probs= torch.distributions.Categorical(probs=probs)\n",
        "  log_prob = action_probs.log_prob(action)\n",
        "  theta = reward + GAMMA*next_state_val*(1-int(done)) - state_val\n",
        "  theta1 = (GAMMA**(t-1))*theta\n",
        "  actor_loss= -1*theta1*log_prob\n",
        "  critic_loss = theta**2 #state_val\n",
        "  loss = actor_loss + critic_loss\n",
        "  \n",
        "  loss.backward()\n",
        "  optimizer.step()\n",
        "\n"
      ],
      "metadata": {
        "id": "Of8MfN4tciLO"
      },
      "execution_count": null,
      "outputs": []
    },
    {
      "cell_type": "code",
      "source": [
        "num_episodes = 100\n",
        "rewardPerEpisode=[]\n",
        "action_taken=[]\n",
        "time_taken=[]\n",
        "eps = []\n",
        "for i_episode in range(num_episodes):\n",
        "    obs = env.reset()\n",
        "    state = reduce_dim(obs)\n",
        "    acc_reward= 0 \n",
        "    for t in count():\n",
        "\n",
        "        action = select_action(state)\n",
        "        action_taken.append(action.item())\n",
        "        obs, reward, done, _ = env.step(action.item())\n",
        "\n",
        "        acc_reward += reward\n",
        "        next_state = reduce_dim(obs)\n",
        "\n",
        "        reward = torch.tensor([reward], device=device)\n",
        "        update_network(state,action,reward,next_state,done,t)\n",
        "        state = next_state\n",
        "        if done :\n",
        "          rewardPerEpisode.append(acc_reward)\n",
        "          time_taken.append(t)\n",
        "          break\n",
        "    print(i_episode,rewardPerEpisode[i_episode], time_taken[i_episode])\n",
        "\n",
        "print('Complete')"
      ],
      "metadata": {
        "colab": {
          "base_uri": "https://localhost:8080/"
        },
        "id": "MI0mfXyf0psn",
        "outputId": "0b44dca3-42c5-4c88-f07a-7ade4c3f125d"
      },
      "execution_count": null,
      "outputs": [
        {
          "output_type": "stream",
          "name": "stderr",
          "text": [
            "/usr/local/lib/python3.7/dist-packages/torch/nn/modules/container.py:141: UserWarning: Implicit dimension choice for softmax has been deprecated. Change the call to include dim=X as an argument.\n",
            "  input = module(input)\n"
          ]
        },
        {
          "output_type": "stream",
          "name": "stdout",
          "text": [
            "0 -1.0 1786\n",
            "1 -6.0 1786\n",
            "2 -3.0 1786\n",
            "3 1.0 1786\n",
            "4 0.0 1786\n",
            "5 -1.0 1786\n",
            "6 0.0 1786\n",
            "7 10.0 1786\n",
            "8 5.0 1786\n",
            "9 -3.0 1786\n",
            "10 7.0 1786\n",
            "11 -6.0 1786\n",
            "12 1.0 1786\n",
            "13 -1.0 1786\n",
            "14 -3.0 1786\n",
            "15 0.0 1786\n",
            "16 0.0 1786\n",
            "17 0.0 1786\n",
            "18 -3.0 1786\n",
            "19 -11.0 1786\n",
            "20 2.0 1786\n",
            "21 -4.0 1786\n",
            "22 12.0 1786\n",
            "23 3.0 1786\n",
            "24 -1.0 1786\n",
            "25 1.0 1786\n",
            "26 0.0 1786\n",
            "27 4.0 1786\n",
            "28 0.0 1786\n",
            "29 -22.0 1786\n",
            "30 3.0 1786\n",
            "31 -3.0 1786\n",
            "32 0.0 1786\n",
            "33 0.0 1786\n",
            "34 1.0 1786\n",
            "35 3.0 1786\n",
            "36 -4.0 1786\n",
            "37 -2.0 1786\n",
            "38 -5.0 1786\n",
            "39 1.0 1786\n",
            "40 9.0 1786\n",
            "41 2.0 1786\n",
            "42 -1.0 1786\n",
            "43 11.0 1786\n",
            "44 -1.0 1786\n",
            "45 2.0 1786\n",
            "46 -3.0 1786\n",
            "47 0.0 1786\n",
            "48 0.0 1786\n",
            "49 0.0 1786\n",
            "50 -1.0 1786\n",
            "51 -17.0 1786\n",
            "52 -1.0 1786\n",
            "53 7.0 1786\n",
            "54 2.0 1786\n",
            "55 0.0 1786\n",
            "56 -9.0 1786\n",
            "57 0.0 1786\n",
            "58 -11.0 1786\n",
            "59 -12.0 1786\n",
            "60 -4.0 1786\n",
            "61 -1.0 1786\n",
            "62 13.0 1786\n",
            "63 -2.0 1786\n",
            "64 6.0 1786\n",
            "65 -2.0 1786\n",
            "66 -2.0 1786\n",
            "67 0.0 1786\n",
            "68 3.0 1786\n",
            "69 3.0 1786\n",
            "70 -3.0 1786\n",
            "71 0.0 1786\n",
            "72 -10.0 1786\n",
            "73 17.0 1786\n",
            "74 -4.0 1786\n",
            "75 10.0 1786\n",
            "76 12.0 1786\n",
            "77 0.0 1786\n",
            "78 -1.0 1786\n",
            "79 1.0 1786\n",
            "80 -6.0 1786\n",
            "81 -8.0 1786\n",
            "82 0.0 1786\n",
            "83 -13.0 1786\n",
            "84 -2.0 1786\n",
            "85 4.0 1786\n",
            "86 -2.0 1786\n",
            "87 -9.0 1786\n",
            "88 13.0 1786\n",
            "89 5.0 1786\n",
            "90 5.0 1786\n",
            "91 4.0 1786\n",
            "92 0.0 1786\n",
            "93 -1.0 1786\n",
            "94 0.0 1786\n",
            "95 2.0 1786\n",
            "96 -2.0 1786\n",
            "97 1.0 1786\n",
            "98 -4.0 1786\n",
            "99 3.0 1786\n",
            "Complete\n"
          ]
        }
      ]
    },
    {
      "cell_type": "code",
      "source": [
        "plt.plot(rewardPerEpisode, label=\"RewardPerEpisode\")\n",
        "plt.legend()\n",
        "plt.figure()\n",
        "plt.plot(time_taken, label= \"TimePerEpisode\")\n",
        "plt.legend()\n",
        "plt.show()"
      ],
      "metadata": {
        "colab": {
          "base_uri": "https://localhost:8080/",
          "height": 513
        },
        "id": "Pqq79MJdHS7n",
        "outputId": "10654f5e-414a-4ec6-d291-3e597c11144b"
      },
      "execution_count": null,
      "outputs": [
        {
          "output_type": "display_data",
          "data": {
            "text/plain": [
              "<Figure size 432x288 with 1 Axes>"
            ],
            "image/png": "[encoded data removed]"
          },
          "metadata": {
            "needs_background": "light"
          }
        },
        {
          "output_type": "display_data",
          "data": {
            "text/plain": [
              "<Figure size 432x288 with 1 Axes>"
            ],
            "image/png": "[encoded data removed]"
          },
          "metadata": {
            "needs_background": "light"
          }
        }
      ]
    },
    {
      "cell_type": "code",
      "source": [
        "num_episodes = 10\n",
        "rewardPerEpisode=[]\n",
        "action_taken=[]\n",
        "time_taken=[]\n",
        "eps = []\n",
        "for i_episode in range(num_episodes):\n",
        "    obs = env.reset()\n",
        "    state = reduce_dim(obs)\n",
        "    acc_reward= 0 \n",
        "    for t in count():\n",
        "\n",
        "        action  = select_action(state)\n",
        "        action_taken.append(action.item())\n",
        "        obs, reward, done, _ = env.step(action.item())\n",
        "\n",
        "        acc_reward += reward\n",
        "        next_state = reduce_dim(obs)\n",
        "\n",
        "        state = next_state\n",
        "        if done :\n",
        "          rewardPerEpisode.append(acc_reward)\n",
        "          time_taken.append(t)\n",
        "          break\n",
        "    print(i_episode,rewardPerEpisode[i_episode], time_taken[i_episode])\n",
        "\n",
        "print('Complete')"
      ],
      "metadata": {
        "id": "81i6PS5iHRiD",
        "colab": {
          "base_uri": "https://localhost:8080/"
        },
        "outputId": "0014a0da-1f1e-483b-e46e-26c7548a4d74"
      },
      "execution_count": null,
      "outputs": [
        {
          "output_type": "stream",
          "name": "stderr",
          "text": [
            "/usr/local/lib/python3.7/dist-packages/torch/nn/modules/container.py:141: UserWarning: Implicit dimension choice for softmax has been deprecated. Change the call to include dim=X as an argument.\n",
            "  input = module(input)\n"
          ]
        },
        {
          "output_type": "stream",
          "name": "stdout",
          "text": [
            "0 -4.0 1786\n",
            "1 3.0 1786\n",
            "2 4.0 1786\n",
            "3 2.0 1786\n",
            "4 -5.0 1786\n",
            "5 -2.0 1786\n",
            "6 2.0 1786\n",
            "7 -9.0 1786\n",
            "8 1.0 1786\n",
            "9 2.0 1786\n",
            "Complete\n"
          ]
        }
      ]
    },
    {
      "cell_type": "code",
      "source": [
        "plt.plot(rewardPerEpisode, label=\"RewardPerEpisode\")\n",
        "plt.legend()\n",
        "plt.figure()\n",
        "plt.plot(time_taken, label= \"TimePerEpisode\")\n",
        "plt.legend()\n",
        "plt.show()"
      ],
      "metadata": {
        "colab": {
          "base_uri": "https://localhost:8080/",
          "height": 513
        },
        "id": "fhkLKW4LHe6-",
        "outputId": "fbe19678-7049-4829-e811-3227bad04b60"
      },
      "execution_count": null,
      "outputs": [
        {
          "output_type": "display_data",
          "data": {
            "text/plain": [
              "<Figure size 432x288 with 1 Axes>"
            ],
            "image/png": "[encoded data removed]"
          },
          "metadata": {
            "needs_background": "light"
          }
        },
        {
          "output_type": "display_data",
          "data": {
            "text/plain": [
              "<Figure size 432x288 with 1 Axes>"
            ],
            "image/png": "[encoded data removed]"
          },
          "metadata": {
            "needs_background": "light"
          }
        }
      ]
    },
    {
      "cell_type": "code",
      "source": [
        ""
      ],
      "metadata": {
        "id": "r4HHUH0BbqNM"
      },
      "execution_count": null,
      "outputs": []
    }
  ]
}
